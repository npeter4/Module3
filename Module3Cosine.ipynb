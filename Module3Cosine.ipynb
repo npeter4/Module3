{
  "nbformat": 4,
  "nbformat_minor": 0,
  "metadata": {
    "colab": {
      "provenance": [],
      "authorship_tag": "ABX9TyP1ZjF6HrHEHnPP1azZQzIR",
      "include_colab_link": true
    },
    "kernelspec": {
      "name": "python3",
      "display_name": "Python 3"
    },
    "language_info": {
      "name": "python"
    }
  },
  "cells": [
    {
      "cell_type": "markdown",
      "metadata": {
        "id": "view-in-github",
        "colab_type": "text"
      },
      "source": [
        "<a href=\"https://colab.research.google.com/github/npeter4/Module3/blob/main/Module3Cosine.ipynb\" target=\"_parent\"><img src=\"https://colab.research.google.com/assets/colab-badge.svg\" alt=\"Open In Colab\"/></a>"
      ]
    },
    {
      "cell_type": "code",
      "execution_count": 1,
      "metadata": {
        "colab": {
          "base_uri": "https://localhost:8080/"
        },
        "id": "sE6gQTUBksmm",
        "outputId": "0d7ba70b-51fe-4394-d2fe-d43d3377b661"
      },
      "outputs": [
        {
          "output_type": "execute_result",
          "data": {
            "text/plain": [
              "[('LeBron James', 0.9999999999999998),\n",
              " ('Anthony Edwards', 0.9987821000250865),\n",
              " ('Luka Don?i?', 0.9983316756105581),\n",
              " ('Tyrese Maxey', 0.9967512313170843),\n",
              " ('Shai Gilgeous-Alexander', 0.996637142084904),\n",
              " ('T.J. McConnell', 0.9956848714337039),\n",
              " ('Jayson Tatum', 0.9953840219356777),\n",
              " ('Devin Booker', 0.9946029019564108),\n",
              " ('Donovan Mitchell', 0.9942614963612602),\n",
              " ('Jaylen Brown', 0.9941230228419864),\n",
              " ('Paolo Banchero', 0.9940144513142002)]"
            ]
          },
          "metadata": {},
          "execution_count": 1
        }
      ],
      "source": [
        "import pandas as pd\n",
        "\n",
        "\n",
        "file_path = '2023-2024 NBA Player Stats - Playoffs.csv'\n",
        "df = pd.read_csv(file_path)\n",
        "\n",
        "df = df.iloc[:, 0].str.split(';', expand=True)\n",
        "\n",
        "df.columns = [\n",
        "    'Rk', 'Player', 'Pos', 'Age', 'Tm', 'G', 'GS', 'MP', 'FG', 'FGA', 'FG%', '3P', '3PA', '3P%', '2P',\n",
        "    '2PA', '2P%', 'eFG%', 'FT', 'FTA', 'FT%', 'ORB', 'DRB', 'TRB', 'AST', 'STL', 'BLK', 'TOV', 'PF', 'PTS']\n",
        "\n",
        "df.set_index('Player', inplace=True)\n",
        "\n",
        "selected_columns = ['MP', 'FG%', '3P%', '2P%', 'FT%', 'TRB', 'AST', 'STL', 'BLK', 'TOV', 'PF', 'PTS']\n",
        "filtered_df = df[selected_columns]\n",
        "\n",
        "filtered_df.head()\n",
        "\n",
        "from sklearn.metrics.pairwise import cosine_similarity\n",
        "\n",
        "numeric_df = filtered_df.apply(pd.to_numeric, errors='coerce').dropna()\n",
        "\n",
        "target_player = 'LeBron James'\n",
        "target_vector = numeric_df.loc[target_player].values.reshape(1, -1)\n",
        "\n",
        "similarities = cosine_similarity(numeric_df, target_vector).flatten()\n",
        "\n",
        "player_similarities = [(player, float(similarity)) for player, similarity in zip(numeric_df.index, similarities)]\n",
        "\n",
        "similar_players = sorted(player_similarities, key=lambda x: x[1], reverse=True)[:11]\n",
        "\n",
        "similar_players\n"
      ]
    },
    {
      "cell_type": "code",
      "source": [],
      "metadata": {
        "id": "7XQLiPwZks-v"
      },
      "execution_count": null,
      "outputs": []
    }
  ]
}