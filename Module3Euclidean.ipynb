{
  "nbformat": 4,
  "nbformat_minor": 0,
  "metadata": {
    "colab": {
      "provenance": [],
      "authorship_tag": "ABX9TyPnxT9TmyoZPnUxTO7ItMZ4",
      "include_colab_link": true
    },
    "kernelspec": {
      "name": "python3",
      "display_name": "Python 3"
    },
    "language_info": {
      "name": "python"
    }
  },
  "cells": [
    {
      "cell_type": "markdown",
      "metadata": {
        "id": "view-in-github",
        "colab_type": "text"
      },
      "source": [
        "<a href=\"https://colab.research.google.com/github/npeter4/Module3/blob/main/Module3Euclidean.ipynb\" target=\"_parent\"><img src=\"https://colab.research.google.com/assets/colab-badge.svg\" alt=\"Open In Colab\"/></a>"
      ]
    },
    {
      "cell_type": "code",
      "execution_count": 5,
      "metadata": {
        "colab": {
          "base_uri": "https://localhost:8080/"
        },
        "id": "CTIH_p65cvKP",
        "outputId": "815af5ec-0a90-4e7e-8732-84fbc80fc0bd"
      },
      "outputs": [
        {
          "output_type": "execute_result",
          "data": {
            "text/plain": [
              "[('Shai Gilgeous-Alexander', 0.0),\n",
              " ('Anthony Edwards', 3.225236270414928),\n",
              " ('Donovan Mitchell', 3.427605286493762),\n",
              " ('Luka Don?i?', 4.1116917442823935),\n",
              " ('LeBron James', 4.193398860113356),\n",
              " ('Damian Lillard', 4.84116855728036),\n",
              " ('Jalen Brunson', 5.024759994268383),\n",
              " ('Joel Embiid', 5.230451892523246),\n",
              " ('Tyrese Maxey', 5.278488514717069),\n",
              " ('Kevin Durant', 5.2971683945292884),\n",
              " ('Devin Booker', 5.4575603523919005)]"
            ]
          },
          "metadata": {},
          "execution_count": 5
        }
      ],
      "source": [
        "import pandas as pd\n",
        "\n",
        "\n",
        "file_path = '2023-2024 NBA Player Stats - Playoffs.csv'\n",
        "df = pd.read_csv(file_path)\n",
        "\n",
        "df = df.iloc[:, 0].str.split(';', expand=True)\n",
        "\n",
        "df.columns = [\n",
        "    'Rk', 'Player', 'Pos', 'Age', 'Tm', 'G', 'GS', 'MP', 'FG', 'FGA', 'FG%', '3P', '3PA', '3P%', '2P',\n",
        "    '2PA', '2P%', 'eFG%', 'FT', 'FTA', 'FT%', 'ORB', 'DRB', 'TRB', 'AST', 'STL', 'BLK', 'TOV', 'PF', 'PTS']\n",
        "\n",
        "df.set_index('Player', inplace=True)\n",
        "\n",
        "selected_columns = ['MP', 'FG%', '3P%', '2P%', 'FT%', 'TRB', 'AST', 'STL', 'BLK', 'TOV', 'PF', 'PTS']\n",
        "filtered_df = df[selected_columns]\n",
        "\n",
        "filtered_df.head()\n",
        "\n",
        "from scipy.spatial.distance import cdist\n",
        "import numpy as np\n",
        "\n",
        "# Convert the filtered DataFrame to a numerical matrix\n",
        "numeric_df = filtered_df.apply(pd.to_numeric, errors='coerce').dropna()\n",
        "\n",
        "# Choose a target player (e.g., 'LeBron James')\n",
        "target_player = 'Shai Gilgeous-Alexander'\n",
        "target_vector = numeric_df.loc[target_player].values.reshape(1, -1)\n",
        "\n",
        "# Calculate Euclidean distances between the target player and all other players\n",
        "distances = cdist(numeric_df, target_vector, metric=\"euclidean\").flatten()\n",
        "\n",
        "# Pair each player with their corresponding distance (converted to regular float)\n",
        "player_distances = [(player, float(distance)) for player, distance in zip(numeric_df.index, distances)]\n",
        "\n",
        "# Sort the players by distance (lower means more similar) and get the top 10 most similar players\n",
        "similar_players = sorted(player_distances, key=lambda x: x[1])[:11]\n",
        "\n",
        "# Display the results\n",
        "similar_players\n"
      ]
    }
  ]
}